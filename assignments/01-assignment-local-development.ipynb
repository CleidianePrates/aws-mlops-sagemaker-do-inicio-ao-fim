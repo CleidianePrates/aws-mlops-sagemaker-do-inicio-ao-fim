{
 "cells": [
  {
   "cell_type": "markdown",
   "id": "c803e4f2-0416-4471-b5ff-11073ef8ab55",
   "metadata": {},
   "source": [
    "# Assignment 1: local development in a notebook\n",
    "In this assignment you write code to process data, do feature engineering, train a model, and evaluate the model on the test dataset. You do all processing in the local notebook, trading scalability and reproducibility for the speed of deployment and fast interations to experiment with different feature engineering approaches and model types.\n",
    "\n",
    "Optionally you can run this notebook headlessly as a SageMaker on-demand or scheduled notebook job. \n",
    "\n",
    "Refer to the notebook [`01-idea-development.ipynb`](../01-idea-development.ipynb) for code snippets and a general guidance for the exercises in this assignment.\n",
    "\n",
    "Feel free to implement your own specific use case with your own dataset and a model."
   ]
  },
  {
   "cell_type": "markdown",
   "id": "e9d935df-3b71-4918-af10-66a9efbafbc3",
   "metadata": {},
   "source": [
    "## Install and import packages\n",
    "You can use `%` commands and `pip install` to install any packages in the notebook kernel."
   ]
  },
  {
   "cell_type": "code",
   "execution_count": null,
   "id": "0d789051-1d5e-44c0-a1e6-c1d4c9f1981a",
   "metadata": {},
   "outputs": [],
   "source": [
    "%pip install --upgrade pip\n",
    "%pip install -q  xgboost sagemaker-experiments"
   ]
  },
  {
   "cell_type": "code",
   "execution_count": null,
   "id": "9e35063a-4fa2-4424-a96d-e0726232188a",
   "metadata": {},
   "outputs": [],
   "source": [
    "import pandas as pd\n",
    "import numpy as np \n",
    "import json\n",
    "import joblib\n",
    "import xgboost as xgb\n",
    "import sagemaker\n",
    "import boto3\n",
    "import os\n",
    "from time import gmtime, strftime, sleep\n",
    "from sklearn.metrics import roc_auc_score\n",
    "from smexperiments.experiment import Experiment\n",
    "from smexperiments.trial import Trial\n",
    "from smexperiments.trial_component import TrialComponent\n",
    "from smexperiments.tracker import Tracker\n",
    "\n",
    "sagemaker.__version__"
   ]
  },
  {
   "cell_type": "code",
   "execution_count": null,
   "id": "1727a718-a26d-47b2-9779-ffa786913234",
   "metadata": {},
   "outputs": [],
   "source": [
    "session = sagemaker.Session()\n",
    "sm = session.sagemaker_client"
   ]
  },
  {
   "cell_type": "markdown",
   "id": "ab0f32c5-24a6-4478-9296-c3105d8bde8d",
   "metadata": {
    "tags": []
   },
   "source": [
    "## Load data\n",
    "- Create variables to keep literal constants, like file names and paths\n",
    "- Load data from a local file to a Pandas dataframe\n",
    "- Explore the data"
   ]
  },
  {
   "cell_type": "code",
   "execution_count": null,
   "id": "74dc043b-c289-4432-8d2a-f1e63c678066",
   "metadata": {},
   "outputs": [],
   "source": [
    "# Write data load code\n"
   ]
  },
  {
   "cell_type": "markdown",
   "id": "359453ab-879e-47ee-840a-337c63d5744f",
   "metadata": {},
   "source": [
    "## [Optional] create an experiment\n",
    "Use [Amazon SageMaker Experiments Python SDK](https://sagemaker-experiments.readthedocs.io/en/latest/) to create and manage your experiments."
   ]
  },
  {
   "cell_type": "code",
   "execution_count": null,
   "id": "39587aaf-b120-46ab-a70f-fc98c5119804",
   "metadata": {},
   "outputs": [],
   "source": [
    "# Wirte code to create an experiment"
   ]
  },
  {
   "cell_type": "markdown",
   "id": "67e49a2a-6119-446f-a69c-eba9024f4a6e",
   "metadata": {},
   "source": [
    "## Exercise 1: EDA and feature engineering\n",
    "- Implement data processing\n",
    "- Implement EDA\n",
    "- Implement feature engineering"
   ]
  },
  {
   "cell_type": "code",
   "execution_count": null,
   "id": "c6cce611-1195-4e32-bf10-5ff04bf0e402",
   "metadata": {},
   "outputs": [],
   "source": [
    "# Exercise 1 - write code here\n"
   ]
  },
  {
   "cell_type": "markdown",
   "id": "7aa8469d-3081-40f6-ad1b-720204cdff81",
   "metadata": {},
   "source": [
    "## Exercise 2: Split data\n",
    "- Prepare data for training, split the dataset"
   ]
  },
  {
   "cell_type": "code",
   "execution_count": null,
   "id": "a96d86c8-b351-4d20-81f4-2b9993dd9fa6",
   "metadata": {},
   "outputs": [],
   "source": [
    "# Exercise 2 - write code here\n",
    "# train_data, validation_data, test_data = np.split()"
   ]
  },
  {
   "cell_type": "markdown",
   "id": "e334dec8-5c00-4d2d-a873-d0fa4d8d4722",
   "metadata": {},
   "source": [
    "## Exercise 3: Model training\n",
    "- Train the model\n",
    "- Optional: track your model training runs as trials and trials components"
   ]
  },
  {
   "cell_type": "code",
   "execution_count": null,
   "id": "81b7858d-e868-43cd-ae09-3ca88ee3f48d",
   "metadata": {},
   "outputs": [],
   "source": [
    "# Exercise 3 - write code here\n"
   ]
  },
  {
   "cell_type": "markdown",
   "id": "8985f391-6a02-403a-8cee-3c08dd9476a4",
   "metadata": {},
   "source": [
    "## Exercise 4: Validate model\n",
    "- Validate the model on the test dataset"
   ]
  },
  {
   "cell_type": "code",
   "execution_count": null,
   "id": "0c607fb1-2dcf-4064-8fd8-4e435ef8a2bd",
   "metadata": {},
   "outputs": [],
   "source": [
    "# Exercise 4 - write code here\n",
    "\n",
    "# test_auc = roc_auc_score(test_label, test_pred)\n",
    "# train_auc = roc_auc_score(train_label, train_pred)\n",
    "# print(f\"Train-auc:{train_auc:.2f}, Test-auc:{test_auc:.2f}\")"
   ]
  },
  {
   "cell_type": "markdown",
   "id": "ed640f3b-1fc9-4079-abd6-824250f50e58",
   "metadata": {},
   "source": [
    "## Exercise 5: [Optional] explore your experiment in Studio\n",
    "Refer to [View and Compare Amazon SageMaker Experiments, Trials, and Trial Components](https://docs.aws.amazon.com/sagemaker/latest/dg/experiments-view-compare.html) developer guide to understand how to work with experiments and trials."
   ]
  },
  {
   "cell_type": "markdown",
   "id": "0958c08f-2b9b-452b-bdc1-ebb4b9d01f3c",
   "metadata": {},
   "source": [
    "## Exercise 6: [Optional] run the notebook as a SageMaker job\n",
    "Adapt your notebook code and follow the instructions in [Notebook-based Workflows](https://docs.aws.amazon.com/sagemaker/latest/dg/notebook-auto-run.html) to run this notebook on-demand headlessly a SageMaker job."
   ]
  },
  {
   "cell_type": "markdown",
   "id": "3178a2a7-ccec-41b4-a186-77e0343713f8",
   "metadata": {},
   "source": [
    "## Continue with the assignment 2\n",
    "Navigate to the [assignment 2](02-assignment-sagemaker-containers.ipynb) notebook."
   ]
  }
 ],
 "metadata": {
  "instance_type": "ml.t3.medium",
  "kernelspec": {
   "display_name": "Python 3 (Data Science)",
   "language": "python",
   "name": "python3__SAGEMAKER_INTERNAL__arn:aws:sagemaker:us-east-1:081325390199:image/datascience-1.0"
  },
  "language_info": {
   "codemirror_mode": {
    "name": "ipython",
    "version": 3
   },
   "file_extension": ".py",
   "mimetype": "text/x-python",
   "name": "python",
   "nbconvert_exporter": "python",
   "pygments_lexer": "ipython3",
   "version": "3.7.10"
  }
 },
 "nbformat": 4,
 "nbformat_minor": 5
}
