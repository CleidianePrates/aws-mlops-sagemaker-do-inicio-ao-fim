{
 "cells": [
  {
   "cell_type": "markdown",
   "id": "147445ff-525c-4d20-8e2a-e6a9ae73ae52",
   "metadata": {},
   "source": [
    "# Assignment 2: use SageMaker processing and training jobs\n",
    "In this assignment you move your data processing, feature enginering, and model training code to SageMaker jobs.\n",
    "\n",
    "The following diagram shows an anatomy of a SageMaker container:\n",
    "\n",
    "![](../img/container-anatomy.png)\n",
    "\n",
    "Refer to the notebook [`02-sagemaker-containers.ipynb`](../02-sagemaker-containers.ipynb) for code snippets and a general guidance for the exercises in this assignment."
   ]
  },
  {
   "cell_type": "markdown",
   "id": "82509f78-db32-4573-8407-8398e65e157c",
   "metadata": {},
   "source": [
    "## Import packages"
   ]
  },
  {
   "cell_type": "code",
   "execution_count": null,
   "id": "0915bc6f-8200-43d5-b941-473a25674b16",
   "metadata": {},
   "outputs": [],
   "source": [
    "import time\n",
    "import boto3\n",
    "import botocore\n",
    "import numpy as np  \n",
    "import pandas as pd  \n",
    "import sagemaker\n",
    "from time import gmtime, strftime, sleep\n",
    "from sagemaker.sklearn.processing import SKLearnProcessor\n",
    "from sagemaker.processing import ProcessingInput, ProcessingOutput\n",
    "from sklearn.metrics import roc_auc_score\n",
    "from smexperiments.experiment import Experiment\n",
    "from smexperiments.trial import Trial\n",
    "from smexperiments.trial_component import TrialComponent\n",
    "from smexperiments.tracker import Tracker\n",
    "\n",
    "sagemaker.__version__"
   ]
  },
  {
   "cell_type": "code",
   "execution_count": null,
   "id": "15c66708-45eb-45e2-a84b-4ac542738beb",
   "metadata": {},
   "outputs": [],
   "source": [
    "session = sagemaker.Session()\n",
    "sm = session.sagemaker_client"
   ]
  },
  {
   "cell_type": "markdown",
   "id": "ad5834a1-391f-4b3d-bb47-4b00b73c4fa8",
   "metadata": {},
   "source": [
    "## [Optional] Load an existing or create a new experiment\n",
    "Load an existing or create a new experiment to track parameters, metrics, and artifacts in this notebook."
   ]
  },
  {
   "cell_type": "code",
   "execution_count": null,
   "id": "5fc23732-dde6-4e38-853e-3a6b6adbe927",
   "metadata": {},
   "outputs": [],
   "source": [
    "# Load experiment based on the a name\n",
    "# experiment = Experiment.load(experiment_name, sagemaker_boto_client=sm)"
   ]
  },
  {
   "cell_type": "code",
   "execution_count": null,
   "id": "28ec4b3b-5dcc-4c35-8b83-c3993b397b02",
   "metadata": {},
   "outputs": [],
   "source": [
    "# Alternatively, create a new experiment\n",
    "#experiment_name = f\"from-idea-to-prod-experiment-{strftime('%d-%H-%M-%S', gmtime())}\"\n",
    "#experiment = Experiment.create(\n",
    "#    experiment_name=experiment_name,\n",
    "#    description=\"Direct marketing binary classification\",\n",
    "#    sagemaker_boto_client=sm,\n",
    "#)"
   ]
  },
  {
   "cell_type": "markdown",
   "id": "3539a9e3",
   "metadata": {},
   "source": []
  },
  {
   "cell_type": "markdown",
   "id": "f12711df-77ca-456b-9e4b-7586f003edaa",
   "metadata": {},
   "source": [
    "## Excercise 1: Process data\n",
    "- Use SageMaker session object to [upload](https://sagemaker.readthedocs.io/en/stable/api/utility/session.html#sagemaker.session.Session.upload_data)  the dataset to an Amazon S3 bucket. Use a SageMaker [default bucket](https://sagemaker.readthedocs.io/en/stable/api/utility/session.html#sagemaker.session.Session.default_bucket)\n",
    "- Move data processing code from the previous notebook to a Python executable script. You can pass any parameters to your script to parametrize the data processing\n",
    "- Set the Amazon S3 paths for the output datasets\n",
    "- Use [SageMaker Python SDK](https://sagemaker.readthedocs.io/en/stable/overview.html) [`SKLearnProcessor`](https://sagemaker.readthedocs.io/en/stable/frameworks/sklearn/sagemaker.sklearn.html#sagemaker.sklearn.processing.SKLearnProcessor) class to setup a processing job. \n",
    "- Configure processing job's [inputs](https://sagemaker.readthedocs.io/en/stable/api/training/processing.html#sagemaker.processing.ProcessingInput) and [outputs](https://sagemaker.readthedocs.io/en/stable/api/training/processing.html#sagemaker.processing.ProcessingOutput) to point the processing job to Amazon S3 locations\n",
    "- [Run](https://sagemaker.readthedocs.io/en/stable/api/training/processing.html#sagemaker.processing.ScriptProcessor.run) the processing job"
   ]
  },
  {
   "cell_type": "markdown",
   "id": "3c577c8c-7b1b-4cf4-90de-0c055d407331",
   "metadata": {},
   "source": [
    "### Python SDK processor classes\n",
    "Use the most suitable class to implement a processor for your use case:\n",
    "    \n",
    "![](../img/python-sdk-processors.png)"
   ]
  },
  {
   "cell_type": "code",
   "execution_count": null,
   "id": "2a32c23c-349a-400b-be8f-192471d68284",
   "metadata": {},
   "outputs": [],
   "source": [
    "session = sagemaker.Session()"
   ]
  },
  {
   "cell_type": "code",
   "execution_count": null,
   "id": "c8552eae-d40b-4cef-b30d-23cc4aa676c8",
   "metadata": {},
   "outputs": [],
   "source": [
    "# Write data upload code\n",
    "# S3 key to the full dataset\n",
    "# input_s3_url = session.upload_data()\n"
   ]
  },
  {
   "cell_type": "code",
   "execution_count": null,
   "id": "de41ea02-1ed2-4550-b952-be3b90db2cf8",
   "metadata": {},
   "outputs": [],
   "source": [
    "%%writefile preprocessing_assignment.py\n",
    "\n",
    "# Write executable data processing code here\n",
    "import pandas as pd\n",
    "import numpy as np\n",
    "import argparse\n",
    "import os\n",
    "\n",
    "def _parse_args():\n",
    "    \n",
    "    parser = argparse.ArgumentParser()\n",
    "    # Data, model, and output directories\n",
    "    # model_dir is always passed in from SageMaker. By default this is a S3 path under the default bucket.\n",
    "    parser.add_argument('--filepath', type=str, default='/opt/ml/processing/input/')\n",
    "    parser.add_argument('--filename', type=str, default='bank-additional-full.csv')\n",
    "    parser.add_argument('--outputpath', type=str, default='/opt/ml/processing/output/')\n",
    "    \n",
    "    return parser.parse_known_args()\n",
    "\n",
    "\n",
    "if __name__==\"__main__\":\n",
    "    # Process arguments\n",
    "    args, _ = _parse_args()\n",
    "    \n",
    "    print(\"Data processing and feature engineering start\")\n",
    "    \n",
    "    # Load data from the local files\n",
    "    \n",
    "    # Processing and feature engineering code here\n",
    "    \n",
    "    # Split the data\n",
    "    \n",
    "    # Save the datasets (train, validation, test, baseline) locally\n",
    "    \n",
    "    print(\"## Processing complete. Exiting.\")"
   ]
  },
  {
   "cell_type": "code",
   "execution_count": null,
   "id": "2a4983c1-0412-42d9-a8ad-c92fb0215f6e",
   "metadata": {},
   "outputs": [],
   "source": [
    "# Set the Amazon S3 paths for the output datasets\n",
    "# train_s3_url = \n",
    "# validation_s3_url = \n",
    "# test_s3_url = \n",
    "# baseline_s3_url = \n"
   ]
  },
  {
   "cell_type": "markdown",
   "id": "e41aa2a6-e221-4fff-a410-dd6c4f762e3e",
   "metadata": {},
   "source": [
    "### [Optional] Create a trail\n",
    "If you use an experiment, you must create a trial to capture processing and training output from this notebook. \n",
    "\n",
    "Use [`Trial`](https://sagemaker-experiments.readthedocs.io/en/latest/trial.html) class to interact with trials and the [`Tracker`](https://sagemaker-experiments.readthedocs.io/en/latest/tracker.html) class to record information to a trial component. \n",
    "\n",
    "SageMaker processing and training jobs automatically handle trial components and save metrics, parameters, metadata, and artifacts in the trial components if you provide an `experiment_config` in `Processor.run()` or `Estimator.fit()` calls."
   ]
  },
  {
   "cell_type": "code",
   "execution_count": null,
   "id": "a2cf9b2d-03c9-427d-9e61-535ef87b2b6e",
   "metadata": {},
   "outputs": [],
   "source": [
    "# trial = experiment.create_trial(trial_name_prefix=\"Container-training\")"
   ]
  },
  {
   "cell_type": "code",
   "execution_count": null,
   "id": "abe347bf-c963-4c6f-ae4e-417bc22ac303",
   "metadata": {},
   "outputs": [],
   "source": [
    "# with Tracker.create(display_name=\"Preprocessing-split\", sagemaker_boto_client=sm) as tracker:\n",
    "#    tracker.log_parameters()\n",
    "#    tracker.log_input()"
   ]
  },
  {
   "cell_type": "code",
   "execution_count": null,
   "id": "a9456a33-4b0e-418f-b078-ff6be590ae27",
   "metadata": {},
   "outputs": [],
   "source": [
    "# Create experiment config to use in the processing and training jobs\n",
    "#experiment_config = {\n",
    "#    \"ExperimentName\": experiment.experiment_name,\n",
    "#    \"TrialName\": trial.trial_name,\n",
    "#    \"TrialComponentDisplayName\": \"Preprocessing\",\n",
    "#}"
   ]
  },
  {
   "cell_type": "markdown",
   "id": "4e3580c5-8e91-4339-b509-089f5107ed85",
   "metadata": {},
   "source": [
    "### Create a processor"
   ]
  },
  {
   "cell_type": "code",
   "execution_count": null,
   "id": "4b65e2ed-6998-4efa-9cf0-ce68d9e5b944",
   "metadata": {},
   "outputs": [],
   "source": [
    "# Create SKLearnProcessor\n",
    "framework_version = \"0.23-1\"\n",
    "processing_instance_type = \"ml.m5.large\"\n",
    "processing_instance_count = 1\n",
    "\n",
    "# sklearn_processor = SKLearnProcessor()\n"
   ]
  },
  {
   "cell_type": "code",
   "execution_count": null,
   "id": "3624021f-a0cf-40da-991c-2f9e04a46b54",
   "metadata": {},
   "outputs": [],
   "source": [
    "# Define procesing inputs and outputs\n",
    "processing_inputs = [] # use input_s3_url as pointer to the full dataset\n",
    "\n",
    "processing_outputs = [] # map local directories in the processing container to Amazon S3 locations"
   ]
  },
  {
   "cell_type": "code",
   "execution_count": null,
   "id": "e4e9313e-e4b0-4ddc-928d-c6afd48a202d",
   "metadata": {},
   "outputs": [],
   "source": [
    "# Start the processing job, pass an experiment_config parameter if you use experiments\n",
    "# sklearn_processor.run() "
   ]
  },
  {
   "cell_type": "markdown",
   "id": "931aa28b-f71a-4bcf-9be1-741f25cfdf5f",
   "metadata": {},
   "source": [
    "## Exercise 2: Model training\n",
    "- Get a container image URI for the used built-in SageMaker ML algorithm using SageMaker SDK [helper](https://sagemaker.readthedocs.io/en/stable/api/utility/image_uris.html#sagemaker.image_uris.retrieve)\n",
    "- Configure data [input channels](https://sagemaker.readthedocs.io/en/stable/api/utility/inputs.html#sagemaker.inputs.TrainingInput) for the training job\n",
    "- Use [`Estimator`](https://sagemaker.readthedocs.io/en/stable/api/training/estimators.html#sagemaker.estimator.Estimator) class to setup a training job\n",
    "- Set [hyperparameters](https://sagemaker.readthedocs.io/en/stable/api/training/estimators.html#sagemaker.estimator.Estimator.set_hyperparameters)\n",
    "- [Run](https://sagemaker.readthedocs.io/en/stable/api/training/estimators.html#sagemaker.estimator.EstimatorBase.fit) the training job"
   ]
  },
  {
   "cell_type": "code",
   "execution_count": null,
   "id": "9274e86b-5924-47c9-a294-44e45b586e52",
   "metadata": {},
   "outputs": [],
   "source": [
    "# Write code to retrieve a container image URI\n"
   ]
  },
  {
   "cell_type": "markdown",
   "id": "2e61afbe",
   "metadata": {},
   "source": []
  },
  {
   "cell_type": "code",
   "execution_count": null,
   "id": "d533adcd-e8ae-4a7e-b284-98758520125f",
   "metadata": {},
   "outputs": [],
   "source": [
    "# Set the input data channels\n",
    "# s3_input_train = \n",
    "# s3_input_validation ="
   ]
  },
  {
   "cell_type": "code",
   "execution_count": null,
   "id": "65a6a99c-2e1e-40f5-abf9-4118a328a5bb",
   "metadata": {},
   "outputs": [],
   "source": [
    "# Set an Amazon S3 path for a model artifact\n",
    "# output_s3_url = "
   ]
  },
  {
   "cell_type": "markdown",
   "id": "640240ee-0e43-4a01-823d-fcf977587008",
   "metadata": {},
   "source": [
    "### Python SDK estimator classes\n",
    "SageMaker Python SDK contains corresponding [`EstimatorBase`](https://sagemaker.readthedocs.io/en/stable/api/training/estimators.html#sagemaker.estimator.EstimatorBase)-derived classes to access each of the built-in algorithms. You can extend [`Framework`](https://sagemaker.readthedocs.io/en/stable/api/training/estimators.html#sagemaker.estimator.Framework) class to implement a training with a custom framework.\n",
    "\n",
    "![](../img/python-sdk-estimators.png)"
   ]
  },
  {
   "cell_type": "code",
   "execution_count": null,
   "id": "fd2bd740-cebc-47eb-ae77-9739c11e96a5",
   "metadata": {},
   "outputs": [],
   "source": [
    "# Create an estimator\n",
    "train_instance_count = 1\n",
    "train_instance_type = \"ml.m5.xlarge\"\n",
    "\n",
    "# estimator = sagemaker.estimator.Estimator()"
   ]
  },
  {
   "cell_type": "code",
   "execution_count": null,
   "id": "a2b1c1b4-f7f3-4baa-b976-9640c4f238d0",
   "metadata": {},
   "outputs": [],
   "source": [
    "# Set hyperparameters for the estimator algorithm\n",
    "# estimator.set_hyperparameters()"
   ]
  },
  {
   "cell_type": "code",
   "execution_count": null,
   "id": "59062be8-afbc-4202-abe7-506870865b01",
   "metadata": {},
   "outputs": [],
   "source": [
    "# Set the training inputs\n",
    "# training_inputs = {}"
   ]
  },
  {
   "cell_type": "code",
   "execution_count": null,
   "id": "97daec75-fc1a-45a2-9fec-f8fffc6c326d",
   "metadata": {},
   "outputs": [],
   "source": [
    "# Run the training job, optionally use an experiment_config parameter\n",
    "# estimator.fit(training_inputs)"
   ]
  },
  {
   "cell_type": "markdown",
   "id": "93daf307-36f0-47d7-80da-4c469637935c",
   "metadata": {},
   "source": [
    "Wait until the training job is done."
   ]
  },
  {
   "cell_type": "code",
   "execution_count": null,
   "id": "6e41b9f1-f139-4bc6-bc78-9b3cd16dd7f4",
   "metadata": {},
   "outputs": [],
   "source": [
    "# Describe the training job\n",
    "# training_job_name = estimator._current_job_name\n",
    "# boto3.client(\"sagemaker\", region_name=region).describe_training_job(TrainingJobName=training_job_name)"
   ]
  },
  {
   "cell_type": "code",
   "execution_count": null,
   "id": "9d197e53-9fe2-4f7d-9814-ce4bcaee347b",
   "metadata": {},
   "outputs": [],
   "source": [
    "# Get the model metrics from the describe job result\n",
    "\n",
    "# print(f\"Train-auc:{train_auc:.2f}, Validate-auc:{validate_auc:.2f}\")"
   ]
  },
  {
   "cell_type": "markdown",
   "id": "6c7c398c-a444-41e2-8455-b886769b060b",
   "metadata": {},
   "source": [
    "## Exercise 3: Validate model\n",
    "To validate the model, you use the model artifact from the training job to run predictions on the test dataset. You can either create a [real-time inference endpoint](https://docs.aws.amazon.com/sagemaker/latest/dg/realtime-endpoints.html) or create a [batch transform](https://docs.aws.amazon.com/sagemaker/latest/dg/batch-transform.html)."
   ]
  },
  {
   "cell_type": "markdown",
   "id": "c6343917-358f-4189-bd0f-ed3b6188a78c",
   "metadata": {},
   "source": [
    "### Option 1: Real-time inference\n",
    "- Use [Estimator.deploy](https://sagemaker.readthedocs.io/en/stable/api/training/estimators.html#sagemaker.estimator.EstimatorBase.deploy) function to provision a real-time inference endpoint\n",
    "- Load test dataset\n",
    "- Send the test dataset to the endpoint. Use [Predictor.predict](https://sagemaker.readthedocs.io/en/stable/api/inference/predictors.html#sagemaker.predictor.Predictor.predict) function\n",
    "- Evaluate the predictions"
   ]
  },
  {
   "cell_type": "code",
   "execution_count": null,
   "id": "64470a32-0a46-4a6b-be34-d6cd38f2cf78",
   "metadata": {},
   "outputs": [],
   "source": [
    "# Create a predictor\n",
    "# Remember, the training job saved the test dataset in the specified S3 location\n",
    "\n",
    "# predictor = estimator.deploy()"
   ]
  },
  {
   "cell_type": "code",
   "execution_count": null,
   "id": "1f042c94-7c07-411b-9ab7-d0f75ef00955",
   "metadata": {},
   "outputs": [],
   "source": [
    "# Load the test dataset\n",
    "# test_x = pd.read_csv()\n",
    "# test_y = pd.read_csv()"
   ]
  },
  {
   "cell_type": "code",
   "execution_count": null,
   "id": "6564ab3d-4a64-4ecd-a32c-f9c1c6e29524",
   "metadata": {},
   "outputs": [],
   "source": [
    "# Predict\n"
   ]
  },
  {
   "cell_type": "code",
   "execution_count": null,
   "id": "9d71d1d8-3f5b-4523-b3e4-7b9bb888b4df",
   "metadata": {},
   "outputs": [],
   "source": [
    "# Evaluate predictions\n",
    "# Compare the predicted label to ground truth label\n"
   ]
  },
  {
   "cell_type": "markdown",
   "id": "af398ac9-1de4-4c7f-ba3f-63c3b1084ef2",
   "metadata": {},
   "source": [
    "### Option 2: Batch transform\n",
    "For an asynchronous inference you can use a SageMaker [transform job](https://docs.aws.amazon.com/sagemaker/latest/dg/batch-transform.html).\n",
    "- Use [Estimator.tranformer](https://sagemaker.readthedocs.io/en/stable/api/training/estimators.html#sagemaker.estimator.EstimatorBase.transformer) function to create a transformer\n",
    "- [Run](https://sagemaker.readthedocs.io/en/stable/api/inference/transformer.html#sagemaker.transformer.Transformer.transform) a tranform job\n",
    "- Download the dataset from an S3 output location\n",
    "- Evalute the predictions"
   ]
  },
  {
   "cell_type": "code",
   "execution_count": null,
   "id": "ae8bb57b-a5ef-45e4-906f-b5925d7c9634",
   "metadata": {},
   "outputs": [],
   "source": [
    "# Create a transformer\n",
    "# transformer = estimator.transformer()"
   ]
  },
  {
   "cell_type": "code",
   "execution_count": null,
   "id": "46f09de2-a2bf-40f7-bb94-25d72f189710",
   "metadata": {},
   "outputs": [],
   "source": [
    "# Run a transform, use an experiment_config parameter\n",
    "# transformer.transform()"
   ]
  },
  {
   "cell_type": "markdown",
   "id": "a1dbe775-5cd2-418a-84fb-c304cb13e612",
   "metadata": {},
   "source": [
    "Wait until the transform job is done."
   ]
  },
  {
   "cell_type": "markdown",
   "id": "807fc104-9bdf-4416-a15a-6adeb80693ce",
   "metadata": {},
   "source": [
    "The transformer outputs the prediction probabilities and stores them as a `csv` file in the specified S3 location. The S3 path is stored in `transformer.output_path`. To compare the predictions with the ground truth labels, you must download the dataset from S3 and load it into a Pandas DataFrame."
   ]
  },
  {
   "cell_type": "code",
   "execution_count": null,
   "id": "faf7c79f-bbf7-49f4-8379-1e8d70b3d2fc",
   "metadata": {},
   "outputs": [],
   "source": [
    "# Download the predictions and the ground truth labels from S3\n"
   ]
  },
  {
   "cell_type": "code",
   "execution_count": null,
   "id": "3f01b199-80ad-403d-add3-ac0e80bbe2ea",
   "metadata": {},
   "outputs": [],
   "source": [
    "# Load the output dataset and the ground truth label\n",
    "# predictions = pd.read_csv()\n",
    "# test_y = pd.read_csv()"
   ]
  },
  {
   "cell_type": "code",
   "execution_count": null,
   "id": "f844907e-50f7-4139-844f-612fa2a3cf4d",
   "metadata": {},
   "outputs": [],
   "source": [
    "# Show the confusion matrix\n",
    "# pd.crosstab()\n"
   ]
  },
  {
   "cell_type": "code",
   "execution_count": null,
   "id": "d5b7e091-64fd-4b81-b58e-2e96678888ad",
   "metadata": {},
   "outputs": [],
   "source": [
    "# Calculate AUC\n",
    "# test_auc = roc_auc_score(test_y, predictions)\n",
    "#  print(f\"Test-auc: {test_auc:.2f}\")"
   ]
  },
  {
   "cell_type": "markdown",
   "id": "01dd760b-c28e-4adc-aefd-0135d372bef0",
   "metadata": {},
   "source": [
    "### [Optional] build ROC and precision-recall curves\n",
    "You can create various charts using [`sklearn.metrics`](https://scikit-learn.org/stable/modules/model_evaluation.html) package."
   ]
  },
  {
   "cell_type": "markdown",
   "id": "f2303034-c0aa-4402-a883-448fab8aaf1d",
   "metadata": {},
   "source": [
    "### [Optional] Save charts to the trial component\n",
    "You can use the Tracker class to save various charts to a trial component of the trial of your experiment.\n",
    "\n",
    "A Jupyter notebook trick: Press `Ctrl` + `/` to comment or uncomment all selected lines in the sell."
   ]
  },
  {
   "cell_type": "code",
   "execution_count": null,
   "id": "e388102f-8bef-49e4-8069-2d2e891ee8f5",
   "metadata": {},
   "outputs": [],
   "source": [
    "# Find a trial component name of the current trial based on the display name\n",
    "#batch_transform_trail_component = [\n",
    "#    tc for tc in trial.list_trial_components() \n",
    "#    if tc.display_name == <DISPLAY NAME OF THE TRIAL COMPONENT>][0]"
   ]
  },
  {
   "cell_type": "code",
   "execution_count": null,
   "id": "af5ae3eb-96f0-4ed8-a1ec-580903437d3c",
   "metadata": {},
   "outputs": [],
   "source": [
    "# Add charts\n",
    "# with Tracker.load(\n",
    "#    trial_component_name=batch_transform_trail_component.trial_component_name,\n",
    "#    sagemaker_boto_client=sm\n",
    "# ) as tracker:\n",
    "#    tracker.log_precision_recall()\n",
    "#    tracker.log_confusion_matrix()\n",
    "#    tracker.log_roc_curve()"
   ]
  },
  {
   "cell_type": "markdown",
   "id": "2db1ea21-8414-4bc6-94ac-6f8df64b0655",
   "metadata": {},
   "source": [
    "### [Optional] Explore experiments, trials, and trial components in Studio\n",
    "In **SageMaker resources** select **Experiment and trials**, choose **Open in trial component list** from the context menu:\n",
    "\n",
    "<img src=\"../img/experiment-and-trials-context-menu.png\" width=\"400\"/>"
   ]
  },
  {
   "cell_type": "markdown",
   "id": "50aa6b3a-cb09-4b29-8650-c1119d3905cd",
   "metadata": {},
   "source": [
    "## Exercise 4: [Optional] hyperparameter optimization (HPO)\n",
    "- Use [HyperparameterTuner](https://sagemaker.readthedocs.io/en/stable/api/training/tuner.html#sagemaker.tuner.HyperparameterTuner) to run a HPO job\n",
    "- Specify hyperparameters ranges and tuning strategy\n",
    "- [Run](https://sagemaker.readthedocs.io/en/stable/api/training/tuner.html#sagemaker.tuner.HyperparameterTuner.fit) the tuning job\n",
    "- Compare performance of the tuned and non-tuned models"
   ]
  },
  {
   "cell_type": "code",
   "execution_count": null,
   "id": "f37428b0-0b66-4b2e-b242-acea0f0311db",
   "metadata": {},
   "outputs": [],
   "source": [
    "# import required HPO objects\n",
    "from sagemaker.tuner import (\n",
    "    CategoricalParameter,\n",
    "    ContinuousParameter,\n",
    "    HyperparameterTuner,\n",
    "    IntegerParameter,\n",
    ")"
   ]
  },
  {
   "cell_type": "code",
   "execution_count": null,
   "id": "34f286fc-e2e3-41d3-bf89-b44bf475e93e",
   "metadata": {},
   "outputs": [],
   "source": [
    "# set up hyperparameter ranges\n",
    "# hp_ranges = {}\n"
   ]
  },
  {
   "cell_type": "code",
   "execution_count": null,
   "id": "d9323158-eac0-4a24-933d-a3a7cc2493a2",
   "metadata": {},
   "outputs": [],
   "source": [
    "# set up the objective metric\n",
    "objective = \"validation:auc\""
   ]
  },
  {
   "cell_type": "code",
   "execution_count": null,
   "id": "7d6fa692-ccfd-4584-877d-3e12e1625098",
   "metadata": {},
   "outputs": [],
   "source": [
    "# instantiate a HPO object\n",
    "# tuner = HyperparameterTuner()"
   ]
  },
  {
   "cell_type": "code",
   "execution_count": null,
   "id": "13b9c6ea-5722-4de1-b9a5-1af8e4f7f167",
   "metadata": {},
   "outputs": [],
   "source": [
    "# evaluate performance"
   ]
  },
  {
   "cell_type": "markdown",
   "id": "33483149-3fb0-45ce-8bf6-82c20058b6e4",
   "metadata": {},
   "source": [
    "## Clean-up\n",
    "Remove all real-time endpoints you created"
   ]
  },
  {
   "cell_type": "code",
   "execution_count": null,
   "id": "361c0849-89c6-452d-9656-1ca8a29ae1a7",
   "metadata": {},
   "outputs": [],
   "source": [
    "# predictor.delete_endpoint(delete_endpoint_config=True)\n"
   ]
  },
  {
   "cell_type": "code",
   "execution_count": null,
   "id": "733a4197-b3dc-4248-8c53-27ed8ad4526e",
   "metadata": {},
   "outputs": [],
   "source": [
    "# run if you created a tuned predictor after HPO\n",
    "# hpo_predictor.delete_endpoint(delete_endpoint_config=True)\n"
   ]
  },
  {
   "cell_type": "markdown",
   "id": "0c588b31-6ffe-4350-b8be-9f6631eb3eb7",
   "metadata": {},
   "source": [
    "## Continue with the assignment 3\n",
    "Navigate to the [assignment 3](03-assignment-sagemaker-pipeline.ipynb) notebook."
   ]
  },
  {
   "cell_type": "code",
   "execution_count": null,
   "id": "5b243a2d-c2f4-4b3b-87af-b414c816b276",
   "metadata": {},
   "outputs": [],
   "source": []
  }
 ],
 "metadata": {
  "instance_type": "ml.t3.medium",
  "kernelspec": {
   "display_name": "Python 3 (Data Science)",
   "language": "python",
   "name": "python3__SAGEMAKER_INTERNAL__arn:aws:sagemaker:us-east-1:081325390199:image/datascience-1.0"
  },
  "language_info": {
   "codemirror_mode": {
    "name": "ipython",
    "version": 3
   },
   "file_extension": ".py",
   "mimetype": "text/x-python",
   "name": "python",
   "nbconvert_exporter": "python",
   "pygments_lexer": "ipython3",
   "version": "3.7.10"
  }
 },
 "nbformat": 4,
 "nbformat_minor": 5
}
