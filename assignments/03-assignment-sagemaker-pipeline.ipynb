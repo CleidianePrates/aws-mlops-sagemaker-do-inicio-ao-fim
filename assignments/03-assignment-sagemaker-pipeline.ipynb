{
 "cells": [
  {
   "cell_type": "markdown",
   "id": "8fbc18ab-c1e2-42bd-826e-55e021f8ea6f",
   "metadata": {},
   "source": [
    "# Assignment 3: Create a SageMaker pipeline\n",
    "In this assignment you create an end-to-end ML workflow using [SageMaker Pipelines](https://aws.amazon.com/sagemaker/pipelines/).\n",
    "\n",
    "Refer to the notebook [`03-sagemaker-pipeline.ipynb`](../03-sagemaker-pipeline.ipynb) for code snippets and a general guidance for the exercises in this assignment."
   ]
  },
  {
   "cell_type": "markdown",
   "id": "2dbe0d9b-7ee7-409d-9aea-df74b9f9ac96",
   "metadata": {},
   "source": [
    "## Import packages"
   ]
  },
  {
   "cell_type": "code",
   "execution_count": null,
   "id": "7521ae34-e933-43ee-9375-02344bf1c94e",
   "metadata": {},
   "outputs": [],
   "source": [
    "import pandas as pd\n",
    "import json\n",
    "import boto3\n",
    "import pathlib\n",
    "import io\n",
    "import sagemaker\n",
    "from time import gmtime, strftime, sleep\n",
    "from sagemaker.deserializers import CSVDeserializer\n",
    "from sagemaker.serializers import CSVSerializer\n",
    "\n",
    "from sagemaker.workflow.pipeline_context import PipelineSession\n",
    "from sagemaker.xgboost.estimator import XGBoost\n",
    "from sagemaker.sklearn.processing import SKLearnProcessor\n",
    "from sagemaker.processing import (\n",
    "    ProcessingInput, \n",
    "    ProcessingOutput, \n",
    "    ScriptProcessor\n",
    ")\n",
    "from sagemaker.inputs import TrainingInput\n",
    "\n",
    "from sagemaker.workflow.pipeline import Pipeline\n",
    "from sagemaker.workflow.steps import (\n",
    "    ProcessingStep, \n",
    "    TrainingStep, \n",
    "    CreateModelStep\n",
    ")\n",
    "from sagemaker.workflow.check_job_config import CheckJobConfig\n",
    "from sagemaker.workflow.parameters import (\n",
    "    ParameterInteger, \n",
    "    ParameterFloat, \n",
    "    ParameterString, \n",
    "    ParameterBoolean\n",
    ")\n",
    "from sagemaker.workflow.clarify_check_step import (\n",
    "    ModelBiasCheckConfig, \n",
    "    ClarifyCheckStep, \n",
    "    ModelExplainabilityCheckConfig\n",
    ")\n",
    "from sagemaker import Model\n",
    "from sagemaker.inputs import CreateModelInput\n",
    "from sagemaker.workflow.model_step import ModelStep\n",
    "from sagemaker.workflow.fail_step import FailStep\n",
    "from sagemaker.workflow.conditions import (\n",
    "    ConditionGreaterThan,\n",
    "    ConditionGreaterThanOrEqualTo\n",
    ")\n",
    "from sagemaker.workflow.pipeline_experiment_config import PipelineExperimentConfig\n",
    "from sagemaker.workflow.properties import PropertyFile\n",
    "from sagemaker.workflow.condition_step import ConditionStep\n",
    "from sagemaker.workflow.functions import (\n",
    "    Join,\n",
    "    JsonGet\n",
    ")\n",
    "from sagemaker.workflow.lambda_step import (\n",
    "    LambdaStep,\n",
    "    LambdaOutput,\n",
    "    LambdaOutputTypeEnum,\n",
    ")\n",
    "from sagemaker.lambda_helper import Lambda\n",
    "\n",
    "from sagemaker.model_metrics import (\n",
    "    MetricsSource, \n",
    "    ModelMetrics, \n",
    "    FileSource\n",
    ")\n",
    "from sagemaker.drift_check_baselines import DriftCheckBaselines\n",
    "\n",
    "from sagemaker.image_uris import retrieve\n",
    "\n",
    "sagemaker.__version__"
   ]
  },
  {
   "cell_type": "markdown",
   "id": "fb7ca538-ef85-4e44-a72d-a9123875f7b9",
   "metadata": {},
   "source": [
    "## Set constants\n",
    "You need some fixed string literals to simplify coding. Create these literals here."
   ]
  },
  {
   "cell_type": "code",
   "execution_count": null,
   "id": "15dd57c9-a5b4-4211-a849-6a5ee1daf639",
   "metadata": {},
   "outputs": [],
   "source": [
    "# Set names of pipeline objects\n",
    "project = \"from-idea-to-prod\"\n",
    "\n",
    "pipeline_name = f\"{project}-pipeline\"\n",
    "pipeline_model_name = f\"{project}-model-xgb\"\n",
    "model_package_group_name = f\"{project}-model-group\"\n",
    "endpoint_config_name = f\"{project}-endpoint-config\"\n",
    "endpoint_name = f\"{project}-endpoint\"\n",
    "\n",
    "# Set instance types and counts\n",
    "process_instance_type = \"ml.c5.xlarge\"\n",
    "train_instance_count = 1\n",
    "train_instance_type = \"ml.m5.xlarge\"\n",
    "\n",
    "# Set S3 urls for processed data\n",
    "# train_s3_url = \n",
    "# validation_s3_url = \n",
    "# test_s3_url = \n",
    "# baseline_s3_url = \n",
    "# evaluation_s3_url = "
   ]
  },
  {
   "cell_type": "markdown",
   "id": "d983c1e8-9d03-47f7-8eb6-7c3e4d4b9dba",
   "metadata": {},
   "source": [
    "## Exercise 1: Create pipeline\n",
    "Follow the steps to create a SageMaker pipeline with your ML workflow:\n",
    "- Setup pipeline [parameters](https://sagemaker.readthedocs.io/en/stable/workflows/pipelines/sagemaker.workflow.pipelines.html#parameters)\n",
    "- Build the pipeline [steps](https://sagemaker.readthedocs.io/en/stable/workflows/pipelines/sagemaker.workflow.pipelines.html#steps)\n",
    "- Construct the [pipeline](https://sagemaker.readthedocs.io/en/stable/workflows/pipelines/sagemaker.workflow.pipelines.html#sagemaker.workflow.pipeline.Pipeline)\n",
    "- [Upsert](https://sagemaker.readthedocs.io/en/stable/workflows/pipelines/sagemaker.workflow.pipelines.html#sagemaker.workflow.pipeline.Pipeline.upsert) the pipeline\n",
    "\n",
    "Configure outputs and inputs for each pipeline step."
   ]
  },
  {
   "cell_type": "code",
   "execution_count": null,
   "id": "647c0747-e819-480f-b5c9-700d051beb39",
   "metadata": {},
   "outputs": [],
   "source": [
    "# Setup pipeline parameters\n",
    "# Set S3 url for input dataset\n",
    "# input_s3_url_param = ParameterString()\n"
   ]
  },
  {
   "cell_type": "code",
   "execution_count": null,
   "id": "6baac889-7589-4090-aa94-1d5f798ea6eb",
   "metadata": {},
   "outputs": [],
   "source": [
    "# Processing step\n",
    "# sklearn_processor = SKLearnProcessor()\n",
    "\n",
    "# processing_inputs=[]\n",
    "\n",
    "# processing_outputs=[]\n",
    "\n",
    "# processor_args = sklearn_processor.run()\n",
    "\n",
    "# step_process = ProcessingStep()"
   ]
  },
  {
   "cell_type": "code",
   "execution_count": null,
   "id": "ac75f1f1-48b4-4048-88d1-c9d9bb96ab18",
   "metadata": {},
   "outputs": [],
   "source": [
    "# Training step\n",
    "# estimator = sagemaker.estimator.Estimator()\n",
    "\n",
    "# estimator.set_hyperparameters()\n",
    "\n",
    "# training_inputs = {}\n",
    "\n",
    "# training_args = estimator.fit(training_inputs)\n",
    "\n",
    "# step_train = TrainingStep()"
   ]
  },
  {
   "cell_type": "markdown",
   "id": "4b646429-b3d2-48ab-9fb5-53fd17e2a0a4",
   "metadata": {},
   "source": [
    "Create an executable Python script for the evaluation step"
   ]
  },
  {
   "cell_type": "code",
   "execution_count": null,
   "id": "8855a7cf-0316-4dab-b03d-c08adceda6d3",
   "metadata": {},
   "outputs": [],
   "source": [
    "%%writefile evaluation_assignment.py\n",
    "\n",
    "import json\n",
    "import pathlib\n",
    "import pickle as pkl\n",
    "import tarfile\n",
    "import joblib\n",
    "import numpy as np\n",
    "import pandas as pd\n",
    "import xgboost as xgb\n",
    "import datetime as dt\n",
    "from sklearn.metrics import roc_curve, auc\n",
    "\n",
    "if __name__ == \"__main__\":   \n",
    "    # All paths are local for the processing container\n",
    "        \n",
    "    # Read model tar file\n",
    "\n",
    "    # Load model\n",
    "    \n",
    "    # Read test data\n",
    "\n",
    "    # Run predictions\n",
    "\n",
    "    # Evaluate predictions\n",
    "\n",
    "    # Save evaluation report"
   ]
  },
  {
   "cell_type": "markdown",
   "id": "1570e4a4-8665-4e1b-b867-527cc10749b2",
   "metadata": {},
   "source": [
    "Use this script to setup a [ScriptProcessor](https://sagemaker.readthedocs.io/en/stable/api/training/processing.html#sagemaker.processing.ScriptProcessor) object. Don't forget to pass the [PropertyFile](https://sagemaker.readthedocs.io/en/stable/workflows/pipelines/sagemaker.workflow.pipelines.html#sagemaker.workflow.properties.PropertyFile) where the evaluation script outputs the metrics to the [ProcessingStep](https://sagemaker.readthedocs.io/en/stable/workflows/pipelines/sagemaker.workflow.pipelines.html#sagemaker.workflow.steps.ProcessingStep) constructor."
   ]
  },
  {
   "cell_type": "code",
   "execution_count": null,
   "id": "e819f50d-f825-4aeb-9758-c6ebe16d8a2f",
   "metadata": {},
   "outputs": [],
   "source": [
    "# Evaluation step\n",
    "# script_processor = ScriptProcessor()\n",
    "\n",
    "# eval_inputs=[]\n",
    "\n",
    "# eval_outputs=[]\n",
    "\n",
    "# eval_args = script_processor.run()\n",
    "\n",
    "# evaluation_report = PropertyFile()\n",
    "\n",
    "# step_eval = ProcessingStep()"
   ]
  },
  {
   "cell_type": "markdown",
   "id": "f2ad2f70-36a1-4331-b3d2-ebef7bd403ca",
   "metadata": {},
   "source": [
    "Use a model artifact from the training step and a property file from the evaluation step to create a [Model](https://sagemaker.readthedocs.io/en/stable/api/inference/model.html#sagemaker.model.Model) and [ModelMetrics](https://sagemaker.readthedocs.io/en/stable/api/inference/model_monitor.html#sagemaker.model_metrics.ModelMetrics) objects. Use these objects to construct a [ModelStep](https://sagemaker.readthedocs.io/en/stable/workflows/pipelines/sagemaker.workflow.pipelines.html#sagemaker.workflow.model_step.ModelStep)."
   ]
  },
  {
   "cell_type": "code",
   "execution_count": null,
   "id": "1ea5b2ad-b292-4d5b-8a85-59aa9e5c796c",
   "metadata": {},
   "outputs": [],
   "source": [
    "# Register step\n",
    "# model = Model()\n",
    "\n",
    "# model_metrics = ModelMetrics()\n",
    "\n",
    "# register_args = model.register()\n",
    "\n",
    "# step_register = ModelStep()"
   ]
  },
  {
   "cell_type": "markdown",
   "id": "b12c70ba-9846-42ec-b4aa-e246138ca767",
   "metadata": {},
   "source": [
    "Add a [FailStep](https://sagemaker.readthedocs.io/en/stable/workflows/pipelines/sagemaker.workflow.pipelines.html#sagemaker.workflow.fail_step.FailStep) to stop the pipeline execution if the model performance metric doesn't meet the specified threshold. "
   ]
  },
  {
   "cell_type": "code",
   "execution_count": null,
   "id": "4b150364-140e-4265-91dc-7ca8cdc0463b",
   "metadata": {},
   "outputs": [],
   "source": [
    "# Fail step\n",
    "# step_fail = FailStep()"
   ]
  },
  {
   "cell_type": "markdown",
   "id": "9d934db9-067a-4964-a887-d72d4d9fc1fa",
   "metadata": {},
   "source": [
    "Use [Conditions](https://sagemaker.readthedocs.io/en/stable/workflows/pipelines/sagemaker.workflow.pipelines.html#conditions) and `JsonGet` to construct a condition and the condition step."
   ]
  },
  {
   "cell_type": "code",
   "execution_count": null,
   "id": "4ee7c777-480f-4b39-baf9-dcc29c42d1ce",
   "metadata": {},
   "outputs": [],
   "source": [
    "# Condition step\n",
    "# cond_lte = ConditionGreaterThan()\n",
    "\n",
    "# step_cond = ConditionStep()"
   ]
  },
  {
   "cell_type": "markdown",
   "id": "1775b8f4-fc5d-44e9-976e-0fff234af859",
   "metadata": {},
   "source": [
    "Use step array to create a [Pipeline](https://sagemaker.readthedocs.io/en/stable/workflows/pipelines/sagemaker.workflow.pipelines.html#sagemaker.workflow.pipeline.Pipeline) object."
   ]
  },
  {
   "cell_type": "code",
   "execution_count": null,
   "id": "e5fb76fb-adfd-4ed4-9594-c05c946432e5",
   "metadata": {},
   "outputs": [],
   "source": [
    "# Create pipeline\n",
    "# pipeline = Pipeline()"
   ]
  },
  {
   "cell_type": "code",
   "execution_count": null,
   "id": "f0f7e64a-b9c7-41c1-bccf-f544f94eab6f",
   "metadata": {},
   "outputs": [],
   "source": [
    "# Create a new or update existing Pipeline\n",
    "# pipeline.upsert(role_arn=sm_role)"
   ]
  },
  {
   "cell_type": "code",
   "execution_count": null,
   "id": "24dacd7b-4b07-4232-a511-22beb800f399",
   "metadata": {},
   "outputs": [],
   "source": [
    "# Print the pipeline definition\n",
    "# pipeline_definition = json.loads(pipeline.describe()['PipelineDefinition'])\n",
    "# pipeline_definition"
   ]
  },
  {
   "cell_type": "markdown",
   "id": "85d42219-1841-4ec5-a979-4128a4aa47a7",
   "metadata": {},
   "source": [
    "## Exercise 2: Execute the pipeline"
   ]
  },
  {
   "cell_type": "code",
   "execution_count": null,
   "id": "6f31a8c4-051b-49a3-9e5e-3a9f1e840e59",
   "metadata": {},
   "outputs": [],
   "source": [
    "# Start an execution\n",
    "# execution = pipeline.start()"
   ]
  },
  {
   "cell_type": "code",
   "execution_count": null,
   "id": "daad2121-d51d-4bbd-be48-5f87ca36e4a4",
   "metadata": {},
   "outputs": [],
   "source": [
    "# Un-comment this call if you want the notebook to wait until the pipeline's execution finished\n",
    "# Execution time of this pipeline is about 13 minutes\n",
    "# execution.wait()"
   ]
  },
  {
   "cell_type": "code",
   "execution_count": null,
   "id": "e5d8440f-65c5-430a-a045-33cc53e3453e",
   "metadata": {},
   "outputs": [],
   "source": [
    "# List execution steps\n",
    "# execution.list_steps()"
   ]
  },
  {
   "cell_type": "markdown",
   "id": "73032865-34d3-4723-bc62-32fb80d1b1e1",
   "metadata": {},
   "source": [
    "## Continue with the assignment 4\n",
    "Navigate to the [assignment 4](04-assignment-sagemaker-project.ipynb) notebook."
   ]
  },
  {
   "cell_type": "code",
   "execution_count": null,
   "id": "85e35bab-f8ff-4def-92b5-ca20c84343b7",
   "metadata": {},
   "outputs": [],
   "source": []
  }
 ],
 "metadata": {
  "instance_type": "ml.t3.medium",
  "kernelspec": {
   "display_name": "Python 3 (Data Science)",
   "language": "python",
   "name": "python3__SAGEMAKER_INTERNAL__arn:aws:sagemaker:us-east-1:081325390199:image/datascience-1.0"
  },
  "language_info": {
   "codemirror_mode": {
    "name": "ipython",
    "version": 3
   },
   "file_extension": ".py",
   "mimetype": "text/x-python",
   "name": "python",
   "nbconvert_exporter": "python",
   "pygments_lexer": "ipython3",
   "version": "3.7.10"
  }
 },
 "nbformat": 4,
 "nbformat_minor": 5
}
