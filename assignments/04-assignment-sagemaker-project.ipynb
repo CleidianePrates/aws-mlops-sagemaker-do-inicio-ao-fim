{
 "cells": [
  {
   "cell_type": "markdown",
   "id": "d08dc292-00f2-4264-a3d2-3ff9b42dc8cc",
   "metadata": {},
   "source": [
    "# Assignment 4: Create a SageMaker project\n",
    "In this assignment you create a CI/CD pipeline using [SageMaker Projects](https://docs.aws.amazon.com/sagemaker/latest/dg/sagemaker-projects.html). \n",
    "\n",
    "SageMaker Project are Cloud Formation-based templates which you can provision via Studio UX or SageMaker API into your environment. These templates are managed in Service Catalog. You can use the [provided project templates](https://docs.aws.amazon.com/sagemaker/latest/dg/sagemaker-projects-templates-sm.html) or create [custom ones](https://docs.aws.amazon.com/sagemaker/latest/dg/sagemaker-projects-templates-custom.html).\n",
    "\n",
    "Projects are recommended pattern to deliver re-usable, tested, and governed components or solution blueprints into your ML environments.\n",
    "\n",
    "Refer to the notebook [`04-sagemaker-project.ipynb`](../04-sagemaker-project.ipynb) for code snippets and a general guidance for the exercises in this assignment."
   ]
  },
  {
   "cell_type": "markdown",
   "id": "82f1d136-8bf3-4763-9c2f-8a8f0ff33d95",
   "metadata": {},
   "source": [
    "## Import packages"
   ]
  },
  {
   "cell_type": "code",
   "execution_count": null,
   "id": "38fe7c5a-7862-486b-acbd-b0541835c873",
   "metadata": {},
   "outputs": [],
   "source": [
    "import boto3\n",
    "import sagemaker \n",
    "from time import gmtime, strftime, sleep"
   ]
  },
  {
   "cell_type": "code",
   "execution_count": null,
   "id": "7ab00f9a-f428-4f05-b8f9-61e42b746896",
   "metadata": {},
   "outputs": [],
   "source": [
    "sm = boto3.client(\"sagemaker\")\n",
    "sc = boto3.client(\"servicecatalog\")\n",
    "\n",
    "sc_provider_name = \"Amazon SageMaker\"\n",
    "sc_product_name = \"MLOps template for model building and training\""
   ]
  },
  {
   "cell_type": "markdown",
   "id": "44950263-a204-4367-9ea1-467c96c4bfac",
   "metadata": {},
   "source": [
    "## Exercise 1: Create an MLOps project\n",
    "You can re-use code from [`04-sagemaker-project.ipynb`](../04-sagemaker-project.ipynb) notebook to programmatically create a project using Python SDK `boto3`.\n",
    "\n",
    "Alternatively you can provision a new project via Studio UX."
   ]
  },
  {
   "cell_type": "code",
   "execution_count": null,
   "id": "ff82f428-95a4-4826-982f-84d0f8f0eeee",
   "metadata": {},
   "outputs": [],
   "source": [
    "# Get project details after you created the project\n",
    "# project_name = <YOUR PROJECT NAME>\n",
    "# sm.describe_project(ProjectName=project_name)"
   ]
  },
  {
   "cell_type": "markdown",
   "id": "07432f5e-879c-479c-95ce-8befa083f055",
   "metadata": {},
   "source": [
    "## Exercise 2: Configure the project\n",
    "The provisioned project is a template with a default structure and seed code in a CodeCommit repository. You must change source code and some parameters to reflect your environment and use case, for example the names of Amazon S3 buckets, specific IAM execution roles, and ML workflow.\n",
    "\n",
    "The project template is not compulsory construct, it just gives you a jump start for creating your own custom project template with a better fit for your environment.\n",
    "\n",
    "To configure the provisioned project:\n",
    "1. Clone the project CodeCommit repository to your home directory on Studio EFS\n",
    "2. Replace the ML pipeline implementation sample code with your pipeline construction code, as implemented in the previous assignment\n",
    "3. Modify the `codebuild-buildspec.yml` file to reference the correct Python module name and to set project parameters\n",
    "4. Fix a wrong package version requirement in `setup.py` file\n",
    "\n",
    "You don't need to write any code to complete this exercise, it's configuration work only."
   ]
  },
  {
   "cell_type": "markdown",
   "id": "7f0a0f7f-ee36-4418-9366-53917cc419d6",
   "metadata": {},
   "source": [
    "### Clone the project seed code to the Studio file system\n",
    "When clone operation is complete, navigate to the project folder in your home directory."
   ]
  },
  {
   "cell_type": "markdown",
   "id": "335a1752-de53-4798-903c-210bd9f42d56",
   "metadata": {},
   "source": [
    "### Copy processing and evaluation scripts to pipeline folder\n",
    "Follow the instructions in the [`04-sagemaker-project.ipynb`](../04-sagemaker-project.ipynb) notebook. \n",
    "\n",
    "Navigate to the `pipelines` folder inside the project's code repository folder and rename the `abalone` folder to `fromideatoprod`.\n",
    "\n",
    "Copy the `preprocessing_assignment.py` and `evaluation_assignment.py` scripts that you created in two previous assignments to the `pipelines/fromideatoprod` folder in the project's code repository folder."
   ]
  },
  {
   "cell_type": "markdown",
   "id": "fcf19292-fc86-436d-8dcf-0999affeabb4",
   "metadata": {},
   "source": [
    "### Replace pipeline construction code\n",
    "Follow the instructions in the [`04-sagemaker-project.ipynb`](../04-sagemaker-project.ipynb) notebook. Create a `pipeline.py` file with the pipeline construction code.\n",
    "\n",
    "Copy this `pipeline.py` file from the current folder to the `pipelines/fromideatoprod` folder in the project's code repository folder."
   ]
  },
  {
   "cell_type": "code",
   "execution_count": null,
   "id": "94e2b89a-0a64-48df-a9b2-ac76ed53f61c",
   "metadata": {},
   "outputs": [],
   "source": [
    "%%writefile pipeline.py\n",
    "\n",
    "# You can re-use source code from ../04-sagemaker-project.ipynb notebook\n"
   ]
  },
  {
   "cell_type": "markdown",
   "id": "f10cfe73-f7d1-4537-abfc-196cbb1f0c94",
   "metadata": {},
   "source": [
    "### Modify the build specification file\n",
    "Create a new build specification file as described in [`04-sagemaker-project.ipynb`](../04-sagemaker-project.ipynb) notebook.\n",
    "\n",
    "Don't forget to update the S3 path to the input dataset with your specific S3 path.\n",
    "\n",
    "Copy the build specification file into the project folder."
   ]
  },
  {
   "cell_type": "code",
   "execution_count": null,
   "id": "f438b192-a94d-4942-90ed-b8e38e439ae1",
   "metadata": {},
   "outputs": [],
   "source": [
    "%%writefile codebuild-buildspec.yml\n",
    "\n",
    "# Buildspec file"
   ]
  },
  {
   "cell_type": "markdown",
   "id": "dbaeec5b-2487-4df5-a50d-ce771009c98f",
   "metadata": {},
   "source": [
    "### Fix a wrong package version in `setup.py` file\n",
    "The project template's `setup.py` file contains a wrong version requirement for `sagemaker` package. If you don't remove the version number, the project build fails.\n",
    "\n",
    "Follow the instructions in the [`04-sagemaker-project.ipynb`](../04-sagemaker-project.ipynb) notebook."
   ]
  },
  {
   "cell_type": "markdown",
   "id": "0eba83d3-00cc-4118-b588-dd3ceb854e7b",
   "metadata": {},
   "source": [
    "## Exercise 3: Run CI/CD model building pipeline\n",
    "\n",
    "### CodePipeline pipeline\n",
    "The project template provisioned a CodePipeline pipeline in your AWS Account. Navigate to CodePipeline [console](https://console.aws.amazon.com/codesuite/codepipeline/pipelines) and explore the model building pipeline and its stages. \n",
    "\n",
    "### EventBridge rule to launch the pipeline\n",
    "Navigate to the rules in the EventBridge [console](https://console.aws.amazon.com/events/home?#/rules) and find a rule with the name `sagemaker-<project-name>-<project-id>-build`. This rule launches the CodePipeline pipeline on each change in the project's CodeCommit git repository. \n",
    "\n",
    "### Launching the pipeline\n",
    "You launch the CI/CD pipeline by pushing your code changes into the repository. You can also start the pipeline manually from the console.\n",
    "\n",
    "### Commit code\n",
    "To commit and push the code changes you've made, you can use Git sidepane in Studio or run `git add`, `git commit`, and `git push` commands from Studio terminal.\n",
    "\n",
    "### Follow up the pipeline execution\n",
    "After you pushed changes into the repository, the pipeline starts. Navigate to CodePipeline [console](https://console.aws.amazon.com/codesuite/codepipeline/pipelines) and view the execution. Explore how different pipeline stages works together to build and execute your ML pipeline."
   ]
  },
  {
   "cell_type": "markdown",
   "id": "6785f22d-8377-4165-b397-76b212dfa278",
   "metadata": {},
   "source": [
    "## Exercise 4: Explore Model Registry\n",
    "A successful execution of both CI/CD and ML pipelines registeres a new model version in SageMaker Model Registry. \n",
    "\n",
    "Navigate to **Model registry** in the **SageMaker resources** dropdown list and view the model details:\n",
    "\n",
    "![](../img/model-package-group.png)\n",
    "\n",
    "Double-click on the latest version of the model. Explore all tabs in the model detail screen. For example, you can see the full lineage of how this model version was built and explore version meta data:\n",
    "\n",
    "![](../img/model-version-details-annotated.png)"
   ]
  },
  {
   "cell_type": "markdown",
   "id": "9861510a-c6c8-4de0-b817-1a56d35e9858",
   "metadata": {},
   "source": [
    "In the following assignment you implement a model deployment pipeline."
   ]
  },
  {
   "cell_type": "markdown",
   "id": "61765e5c-fc86-4a10-ab87-4ec23c21489a",
   "metadata": {},
   "source": [
    "## Continue with the assignment 5\n",
    "Navigate to the [assignment 5](05-assignment-deploy.ipynb) notebook."
   ]
  },
  {
   "cell_type": "code",
   "execution_count": null,
   "id": "79820306-ff4a-42eb-83c5-7af158684f41",
   "metadata": {},
   "outputs": [],
   "source": []
  }
 ],
 "metadata": {
  "availableInstances": [
   {
    "_defaultOrder": 0,
    "_isFastLaunch": true,
    "category": "General purpose",
    "gpuNum": 0,
    "hideHardwareSpecs": false,
    "memoryGiB": 4,
    "name": "ml.t3.medium",
    "vcpuNum": 2
   },
   {
    "_defaultOrder": 1,
    "_isFastLaunch": false,
    "category": "General purpose",
    "gpuNum": 0,
    "hideHardwareSpecs": false,
    "memoryGiB": 8,
    "name": "ml.t3.large",
    "vcpuNum": 2
   },
   {
    "_defaultOrder": 2,
    "_isFastLaunch": false,
    "category": "General purpose",
    "gpuNum": 0,
    "hideHardwareSpecs": false,
    "memoryGiB": 16,
    "name": "ml.t3.xlarge",
    "vcpuNum": 4
   },
   {
    "_defaultOrder": 3,
    "_isFastLaunch": false,
    "category": "General purpose",
    "gpuNum": 0,
    "hideHardwareSpecs": false,
    "memoryGiB": 32,
    "name": "ml.t3.2xlarge",
    "vcpuNum": 8
   },
   {
    "_defaultOrder": 4,
    "_isFastLaunch": true,
    "category": "General purpose",
    "gpuNum": 0,
    "hideHardwareSpecs": false,
    "memoryGiB": 8,
    "name": "ml.m5.large",
    "vcpuNum": 2
   },
   {
    "_defaultOrder": 5,
    "_isFastLaunch": false,
    "category": "General purpose",
    "gpuNum": 0,
    "hideHardwareSpecs": false,
    "memoryGiB": 16,
    "name": "ml.m5.xlarge",
    "vcpuNum": 4
   },
   {
    "_defaultOrder": 6,
    "_isFastLaunch": false,
    "category": "General purpose",
    "gpuNum": 0,
    "hideHardwareSpecs": false,
    "memoryGiB": 32,
    "name": "ml.m5.2xlarge",
    "vcpuNum": 8
   },
   {
    "_defaultOrder": 7,
    "_isFastLaunch": false,
    "category": "General purpose",
    "gpuNum": 0,
    "hideHardwareSpecs": false,
    "memoryGiB": 64,
    "name": "ml.m5.4xlarge",
    "vcpuNum": 16
   },
   {
    "_defaultOrder": 8,
    "_isFastLaunch": false,
    "category": "General purpose",
    "gpuNum": 0,
    "hideHardwareSpecs": false,
    "memoryGiB": 128,
    "name": "ml.m5.8xlarge",
    "vcpuNum": 32
   },
   {
    "_defaultOrder": 9,
    "_isFastLaunch": false,
    "category": "General purpose",
    "gpuNum": 0,
    "hideHardwareSpecs": false,
    "memoryGiB": 192,
    "name": "ml.m5.12xlarge",
    "vcpuNum": 48
   },
   {
    "_defaultOrder": 10,
    "_isFastLaunch": false,
    "category": "General purpose",
    "gpuNum": 0,
    "hideHardwareSpecs": false,
    "memoryGiB": 256,
    "name": "ml.m5.16xlarge",
    "vcpuNum": 64
   },
   {
    "_defaultOrder": 11,
    "_isFastLaunch": false,
    "category": "General purpose",
    "gpuNum": 0,
    "hideHardwareSpecs": false,
    "memoryGiB": 384,
    "name": "ml.m5.24xlarge",
    "vcpuNum": 96
   },
   {
    "_defaultOrder": 12,
    "_isFastLaunch": false,
    "category": "General purpose",
    "gpuNum": 0,
    "hideHardwareSpecs": false,
    "memoryGiB": 8,
    "name": "ml.m5d.large",
    "vcpuNum": 2
   },
   {
    "_defaultOrder": 13,
    "_isFastLaunch": false,
    "category": "General purpose",
    "gpuNum": 0,
    "hideHardwareSpecs": false,
    "memoryGiB": 16,
    "name": "ml.m5d.xlarge",
    "vcpuNum": 4
   },
   {
    "_defaultOrder": 14,
    "_isFastLaunch": false,
    "category": "General purpose",
    "gpuNum": 0,
    "hideHardwareSpecs": false,
    "memoryGiB": 32,
    "name": "ml.m5d.2xlarge",
    "vcpuNum": 8
   },
   {
    "_defaultOrder": 15,
    "_isFastLaunch": false,
    "category": "General purpose",
    "gpuNum": 0,
    "hideHardwareSpecs": false,
    "memoryGiB": 64,
    "name": "ml.m5d.4xlarge",
    "vcpuNum": 16
   },
   {
    "_defaultOrder": 16,
    "_isFastLaunch": false,
    "category": "General purpose",
    "gpuNum": 0,
    "hideHardwareSpecs": false,
    "memoryGiB": 128,
    "name": "ml.m5d.8xlarge",
    "vcpuNum": 32
   },
   {
    "_defaultOrder": 17,
    "_isFastLaunch": false,
    "category": "General purpose",
    "gpuNum": 0,
    "hideHardwareSpecs": false,
    "memoryGiB": 192,
    "name": "ml.m5d.12xlarge",
    "vcpuNum": 48
   },
   {
    "_defaultOrder": 18,
    "_isFastLaunch": false,
    "category": "General purpose",
    "gpuNum": 0,
    "hideHardwareSpecs": false,
    "memoryGiB": 256,
    "name": "ml.m5d.16xlarge",
    "vcpuNum": 64
   },
   {
    "_defaultOrder": 19,
    "_isFastLaunch": false,
    "category": "General purpose",
    "gpuNum": 0,
    "hideHardwareSpecs": false,
    "memoryGiB": 384,
    "name": "ml.m5d.24xlarge",
    "vcpuNum": 96
   },
   {
    "_defaultOrder": 20,
    "_isFastLaunch": false,
    "category": "General purpose",
    "gpuNum": 0,
    "hideHardwareSpecs": true,
    "memoryGiB": 0,
    "name": "ml.geospatial.interactive",
    "supportedImageNames": [
     "sagemaker-geospatial-v1-0"
    ],
    "vcpuNum": 0
   },
   {
    "_defaultOrder": 21,
    "_isFastLaunch": true,
    "category": "Compute optimized",
    "gpuNum": 0,
    "hideHardwareSpecs": false,
    "memoryGiB": 4,
    "name": "ml.c5.large",
    "vcpuNum": 2
   },
   {
    "_defaultOrder": 22,
    "_isFastLaunch": false,
    "category": "Compute optimized",
    "gpuNum": 0,
    "hideHardwareSpecs": false,
    "memoryGiB": 8,
    "name": "ml.c5.xlarge",
    "vcpuNum": 4
   },
   {
    "_defaultOrder": 23,
    "_isFastLaunch": false,
    "category": "Compute optimized",
    "gpuNum": 0,
    "hideHardwareSpecs": false,
    "memoryGiB": 16,
    "name": "ml.c5.2xlarge",
    "vcpuNum": 8
   },
   {
    "_defaultOrder": 24,
    "_isFastLaunch": false,
    "category": "Compute optimized",
    "gpuNum": 0,
    "hideHardwareSpecs": false,
    "memoryGiB": 32,
    "name": "ml.c5.4xlarge",
    "vcpuNum": 16
   },
   {
    "_defaultOrder": 25,
    "_isFastLaunch": false,
    "category": "Compute optimized",
    "gpuNum": 0,
    "hideHardwareSpecs": false,
    "memoryGiB": 72,
    "name": "ml.c5.9xlarge",
    "vcpuNum": 36
   },
   {
    "_defaultOrder": 26,
    "_isFastLaunch": false,
    "category": "Compute optimized",
    "gpuNum": 0,
    "hideHardwareSpecs": false,
    "memoryGiB": 96,
    "name": "ml.c5.12xlarge",
    "vcpuNum": 48
   },
   {
    "_defaultOrder": 27,
    "_isFastLaunch": false,
    "category": "Compute optimized",
    "gpuNum": 0,
    "hideHardwareSpecs": false,
    "memoryGiB": 144,
    "name": "ml.c5.18xlarge",
    "vcpuNum": 72
   },
   {
    "_defaultOrder": 28,
    "_isFastLaunch": false,
    "category": "Compute optimized",
    "gpuNum": 0,
    "hideHardwareSpecs": false,
    "memoryGiB": 192,
    "name": "ml.c5.24xlarge",
    "vcpuNum": 96
   },
   {
    "_defaultOrder": 29,
    "_isFastLaunch": true,
    "category": "Accelerated computing",
    "gpuNum": 1,
    "hideHardwareSpecs": false,
    "memoryGiB": 16,
    "name": "ml.g4dn.xlarge",
    "vcpuNum": 4
   },
   {
    "_defaultOrder": 30,
    "_isFastLaunch": false,
    "category": "Accelerated computing",
    "gpuNum": 1,
    "hideHardwareSpecs": false,
    "memoryGiB": 32,
    "name": "ml.g4dn.2xlarge",
    "vcpuNum": 8
   },
   {
    "_defaultOrder": 31,
    "_isFastLaunch": false,
    "category": "Accelerated computing",
    "gpuNum": 1,
    "hideHardwareSpecs": false,
    "memoryGiB": 64,
    "name": "ml.g4dn.4xlarge",
    "vcpuNum": 16
   },
   {
    "_defaultOrder": 32,
    "_isFastLaunch": false,
    "category": "Accelerated computing",
    "gpuNum": 1,
    "hideHardwareSpecs": false,
    "memoryGiB": 128,
    "name": "ml.g4dn.8xlarge",
    "vcpuNum": 32
   },
   {
    "_defaultOrder": 33,
    "_isFastLaunch": false,
    "category": "Accelerated computing",
    "gpuNum": 4,
    "hideHardwareSpecs": false,
    "memoryGiB": 192,
    "name": "ml.g4dn.12xlarge",
    "vcpuNum": 48
   },
   {
    "_defaultOrder": 34,
    "_isFastLaunch": false,
    "category": "Accelerated computing",
    "gpuNum": 1,
    "hideHardwareSpecs": false,
    "memoryGiB": 256,
    "name": "ml.g4dn.16xlarge",
    "vcpuNum": 64
   },
   {
    "_defaultOrder": 35,
    "_isFastLaunch": false,
    "category": "Accelerated computing",
    "gpuNum": 1,
    "hideHardwareSpecs": false,
    "memoryGiB": 61,
    "name": "ml.p3.2xlarge",
    "vcpuNum": 8
   },
   {
    "_defaultOrder": 36,
    "_isFastLaunch": false,
    "category": "Accelerated computing",
    "gpuNum": 4,
    "hideHardwareSpecs": false,
    "memoryGiB": 244,
    "name": "ml.p3.8xlarge",
    "vcpuNum": 32
   },
   {
    "_defaultOrder": 37,
    "_isFastLaunch": false,
    "category": "Accelerated computing",
    "gpuNum": 8,
    "hideHardwareSpecs": false,
    "memoryGiB": 488,
    "name": "ml.p3.16xlarge",
    "vcpuNum": 64
   },
   {
    "_defaultOrder": 38,
    "_isFastLaunch": false,
    "category": "Accelerated computing",
    "gpuNum": 8,
    "hideHardwareSpecs": false,
    "memoryGiB": 768,
    "name": "ml.p3dn.24xlarge",
    "vcpuNum": 96
   },
   {
    "_defaultOrder": 39,
    "_isFastLaunch": false,
    "category": "Memory Optimized",
    "gpuNum": 0,
    "hideHardwareSpecs": false,
    "memoryGiB": 16,
    "name": "ml.r5.large",
    "vcpuNum": 2
   },
   {
    "_defaultOrder": 40,
    "_isFastLaunch": false,
    "category": "Memory Optimized",
    "gpuNum": 0,
    "hideHardwareSpecs": false,
    "memoryGiB": 32,
    "name": "ml.r5.xlarge",
    "vcpuNum": 4
   },
   {
    "_defaultOrder": 41,
    "_isFastLaunch": false,
    "category": "Memory Optimized",
    "gpuNum": 0,
    "hideHardwareSpecs": false,
    "memoryGiB": 64,
    "name": "ml.r5.2xlarge",
    "vcpuNum": 8
   },
   {
    "_defaultOrder": 42,
    "_isFastLaunch": false,
    "category": "Memory Optimized",
    "gpuNum": 0,
    "hideHardwareSpecs": false,
    "memoryGiB": 128,
    "name": "ml.r5.4xlarge",
    "vcpuNum": 16
   },
   {
    "_defaultOrder": 43,
    "_isFastLaunch": false,
    "category": "Memory Optimized",
    "gpuNum": 0,
    "hideHardwareSpecs": false,
    "memoryGiB": 256,
    "name": "ml.r5.8xlarge",
    "vcpuNum": 32
   },
   {
    "_defaultOrder": 44,
    "_isFastLaunch": false,
    "category": "Memory Optimized",
    "gpuNum": 0,
    "hideHardwareSpecs": false,
    "memoryGiB": 384,
    "name": "ml.r5.12xlarge",
    "vcpuNum": 48
   },
   {
    "_defaultOrder": 45,
    "_isFastLaunch": false,
    "category": "Memory Optimized",
    "gpuNum": 0,
    "hideHardwareSpecs": false,
    "memoryGiB": 512,
    "name": "ml.r5.16xlarge",
    "vcpuNum": 64
   },
   {
    "_defaultOrder": 46,
    "_isFastLaunch": false,
    "category": "Memory Optimized",
    "gpuNum": 0,
    "hideHardwareSpecs": false,
    "memoryGiB": 768,
    "name": "ml.r5.24xlarge",
    "vcpuNum": 96
   },
   {
    "_defaultOrder": 47,
    "_isFastLaunch": false,
    "category": "Accelerated computing",
    "gpuNum": 1,
    "hideHardwareSpecs": false,
    "memoryGiB": 16,
    "name": "ml.g5.xlarge",
    "vcpuNum": 4
   },
   {
    "_defaultOrder": 48,
    "_isFastLaunch": false,
    "category": "Accelerated computing",
    "gpuNum": 1,
    "hideHardwareSpecs": false,
    "memoryGiB": 32,
    "name": "ml.g5.2xlarge",
    "vcpuNum": 8
   },
   {
    "_defaultOrder": 49,
    "_isFastLaunch": false,
    "category": "Accelerated computing",
    "gpuNum": 1,
    "hideHardwareSpecs": false,
    "memoryGiB": 64,
    "name": "ml.g5.4xlarge",
    "vcpuNum": 16
   },
   {
    "_defaultOrder": 50,
    "_isFastLaunch": false,
    "category": "Accelerated computing",
    "gpuNum": 1,
    "hideHardwareSpecs": false,
    "memoryGiB": 128,
    "name": "ml.g5.8xlarge",
    "vcpuNum": 32
   },
   {
    "_defaultOrder": 51,
    "_isFastLaunch": false,
    "category": "Accelerated computing",
    "gpuNum": 1,
    "hideHardwareSpecs": false,
    "memoryGiB": 256,
    "name": "ml.g5.16xlarge",
    "vcpuNum": 64
   },
   {
    "_defaultOrder": 52,
    "_isFastLaunch": false,
    "category": "Accelerated computing",
    "gpuNum": 4,
    "hideHardwareSpecs": false,
    "memoryGiB": 192,
    "name": "ml.g5.12xlarge",
    "vcpuNum": 48
   },
   {
    "_defaultOrder": 53,
    "_isFastLaunch": false,
    "category": "Accelerated computing",
    "gpuNum": 4,
    "hideHardwareSpecs": false,
    "memoryGiB": 384,
    "name": "ml.g5.24xlarge",
    "vcpuNum": 96
   },
   {
    "_defaultOrder": 54,
    "_isFastLaunch": false,
    "category": "Accelerated computing",
    "gpuNum": 8,
    "hideHardwareSpecs": false,
    "memoryGiB": 768,
    "name": "ml.g5.48xlarge",
    "vcpuNum": 192
   },
   {
    "_defaultOrder": 55,
    "_isFastLaunch": false,
    "category": "Accelerated computing",
    "gpuNum": 8,
    "hideHardwareSpecs": false,
    "memoryGiB": 1152,
    "name": "ml.p4d.24xlarge",
    "vcpuNum": 96
   },
   {
    "_defaultOrder": 56,
    "_isFastLaunch": false,
    "category": "Accelerated computing",
    "gpuNum": 8,
    "hideHardwareSpecs": false,
    "memoryGiB": 1152,
    "name": "ml.p4de.24xlarge",
    "vcpuNum": 96
   },
   {
    "_defaultOrder": 57,
    "_isFastLaunch": false,
    "category": "Accelerated computing",
    "gpuNum": 0,
    "hideHardwareSpecs": false,
    "memoryGiB": 32,
    "name": "ml.trn1.2xlarge",
    "vcpuNum": 8
   },
   {
    "_defaultOrder": 58,
    "_isFastLaunch": false,
    "category": "Accelerated computing",
    "gpuNum": 0,
    "hideHardwareSpecs": false,
    "memoryGiB": 512,
    "name": "ml.trn1.32xlarge",
    "vcpuNum": 128
   },
   {
    "_defaultOrder": 59,
    "_isFastLaunch": false,
    "category": "Accelerated computing",
    "gpuNum": 0,
    "hideHardwareSpecs": false,
    "memoryGiB": 512,
    "name": "ml.trn1n.32xlarge",
    "vcpuNum": 128
   }
  ],
  "instance_type": "ml.t3.medium",
  "kernelspec": {
   "display_name": "Python 3 (Data Science 3.0)",
   "language": "python",
   "name": "python3__SAGEMAKER_INTERNAL__arn:aws:sagemaker:us-east-1:081325390199:image/sagemaker-data-science-310-v1"
  },
  "language_info": {
   "codemirror_mode": {
    "name": "ipython",
    "version": 3
   },
   "file_extension": ".py",
   "mimetype": "text/x-python",
   "name": "python",
   "nbconvert_exporter": "python",
   "pygments_lexer": "ipython3",
   "version": "3.10.6"
  }
 },
 "nbformat": 4,
 "nbformat_minor": 5
}
